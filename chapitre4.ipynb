{
  "nbformat": 4,
  "nbformat_minor": 0,
  "metadata": {
    "colab": {
      "name": "chapitre4.ipynb",
      "provenance": []
    },
    "kernelspec": {
      "name": "python3",
      "display_name": "Python 3"
    },
    "language_info": {
      "name": "python"
    }
  },
  "cells": [
    {
      "cell_type": "markdown",
      "metadata": {
        "id": "RvuH9dnQkr3m"
      },
      "source": [
        "exercice1\n",
        "\n"
      ]
    },
    {
      "cell_type": "code",
      "metadata": {
        "id": "gaF5UVs4Yla3"
      },
      "source": [
        "# Import DecisionTreeClassifier\n",
        "from sklearn.tree import DecisionTreeClassifier\n",
        "\n",
        "# Import AdaBoostClassifier\n",
        "from sklearn.ensemble import AdaBoostClassifier\n",
        "\n",
        "# Instantiate dt\n",
        "dt = DecisionTreeClassifier(max_depth=2, random_state=1)\n",
        "\n",
        "# Instantiate ada\n",
        "ada = AdaBoostClassifier(base_estimator=dt, n_estimators=180, random_state=1)"
      ],
      "execution_count": null,
      "outputs": []
    },
    {
      "cell_type": "markdown",
      "metadata": {
        "id": "eFJxHBuraEhM"
      },
      "source": [
        "exercice 2:"
      ]
    },
    {
      "cell_type": "code",
      "metadata": {
        "id": "A41ji6tgaGWr"
      },
      "source": [
        "# Fit ada to the training set\n",
        "ada.fit(X_train, y_train)\n",
        "\n",
        "# Compute the probabilities of obtaining the positive class\n",
        "y_pred_proba = ada.predict_proba(X_test)[:, 1]"
      ],
      "execution_count": null,
      "outputs": []
    },
    {
      "cell_type": "markdown",
      "metadata": {
        "id": "TzIv3o1Veaz3"
      },
      "source": [
        "exercice3 :"
      ]
    },
    {
      "cell_type": "code",
      "metadata": {
        "id": "wSFIrJyIeelL"
      },
      "source": [
        "# Import roc_auc_score\n",
        "from sklearn.metrics import roc_auc_score\n",
        "\n",
        "# Evaluate test-set roc_auc_score\n",
        "ada_roc_auc = roc_auc_score(y_test, y_pred_proba)\n",
        "\n",
        "# Print roc_auc_score\n",
        "print('ROC AUC score: {:.2f}'.format(ada_roc_auc))"
      ],
      "execution_count": null,
      "outputs": []
    },
    {
      "cell_type": "markdown",
      "metadata": {
        "id": "3UGbaE-HehFk"
      },
      "source": [
        "output:ROC AUC score: 0.71\n",
        "\n",
        "exercice 4:"
      ]
    },
    {
      "cell_type": "code",
      "metadata": {
        "id": "n_Hy1ypAgKMt"
      },
      "source": [
        "# Import GradientBoostingRegressor\n",
        "from sklearn.ensemble import GradientBoostingRegressor\n",
        "\n",
        "# Instantiate gb\n",
        "gb = GradientBoostingRegressor(max_depth=4, \n",
        "            n_estimators=200,\n",
        "            random_state=2)"
      ],
      "execution_count": null,
      "outputs": []
    },
    {
      "cell_type": "markdown",
      "metadata": {
        "id": "w6f7vBXggNgM"
      },
      "source": [
        "exercice 5:"
      ]
    },
    {
      "cell_type": "code",
      "metadata": {
        "id": "vA03cuVxgQcy"
      },
      "source": [
        "# Fit gb to the training set\n",
        "gb.fit(X_train, y_train)\n",
        "\n",
        "# Predict test set labels\n",
        "y_pred = gb.predict(X_test)"
      ],
      "execution_count": null,
      "outputs": []
    },
    {
      "cell_type": "markdown",
      "metadata": {
        "id": "lLOst2JuhNni"
      },
      "source": [
        "exercice 6:"
      ]
    },
    {
      "cell_type": "code",
      "metadata": {
        "id": "UvkfqMrbhP85"
      },
      "source": [
        "# Import mean_squared_error as MSE\n",
        "from sklearn.metrics import mean_squared_error\n",
        "\n",
        "# Compute MSE\n",
        "mse_test = mean_squared_error(y_test,y_pred)\n",
        "\n",
        "# Compute RMSE\n",
        "rmse_test = mse_test**(1/2)\n",
        "\n",
        "# Print RMSE\n",
        "print('Test set RMSE of gb: {:.3f}'.format(rmse_test))"
      ],
      "execution_count": null,
      "outputs": []
    },
    {
      "cell_type": "markdown",
      "metadata": {
        "id": "ucMbX90chRxn"
      },
      "source": [
        "output: Test set RMSE of gb: 52.065\n",
        "\n",
        "exercice 7"
      ]
    },
    {
      "cell_type": "code",
      "metadata": {
        "id": "2TMAS78citrp"
      },
      "source": [
        "# Import GradientBoostingRegressor\n",
        "from sklearn.ensemble import GradientBoostingRegressor\n",
        "\n",
        "# Instantiate sgbr\n",
        "sgbr = GradientBoostingRegressor(max_depth=4, \n",
        "            subsample=0.9,\n",
        "            max_features=0.75,\n",
        "            n_estimators=200,                                \n",
        "            random_state=2)"
      ],
      "execution_count": null,
      "outputs": []
    },
    {
      "cell_type": "markdown",
      "metadata": {
        "id": "l9L4-2G0jJJ0"
      },
      "source": [
        "exercice 8"
      ]
    },
    {
      "cell_type": "code",
      "metadata": {
        "id": "CnsRPAjmjKwh"
      },
      "source": [
        "# Fit sgbr to the training set\n",
        "sgbr.fit(X_train,y_train)\n",
        "\n",
        "# Predict test set labels\n",
        "y_pred = sgbr.predict(X_test)"
      ],
      "execution_count": null,
      "outputs": []
    },
    {
      "cell_type": "markdown",
      "metadata": {
        "id": "nZpiCGSpj9AC"
      },
      "source": [
        "exercice9:"
      ]
    },
    {
      "cell_type": "code",
      "metadata": {
        "id": "WB1VOKUyj-nQ"
      },
      "source": [
        "# Import mean_squared_error as MSE\n",
        "from sklearn.metrics import mean_squared_error as Mse\n",
        "\n",
        "# Compute test set MSE\n",
        "mse_test = MSE(y_test,y_pred)\n",
        "\n",
        "# Compute test set RMSE\n",
        "rmse_test = mse_test**(1/2)\n",
        "\n",
        "# Print rmse_test\n",
        "print('Test set RMSE of sgbr: {:.3f}'.format(rmse_test))"
      ],
      "execution_count": null,
      "outputs": []
    }
  ]
}